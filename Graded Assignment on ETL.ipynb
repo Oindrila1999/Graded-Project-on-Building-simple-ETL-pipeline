{
 "cells": [
  {
   "cell_type": "markdown",
   "id": "f9e714e6",
   "metadata": {},
   "source": [
    "<h1>Step 1: Data Extraction </h1>"
   ]
  },
  {
   "cell_type": "markdown",
   "id": "0af9e8f0",
   "metadata": {},
   "source": [
    "<h3 style = \"color: blue;\"> Read data from all four input CSV files</br>\n",
    "    Handle potential errors such as missing files</h3>"
   ]
  },
  {
   "cell_type": "code",
   "execution_count": null,
   "id": "bea88e34-4dce-4a6a-a959-90b3b50c0f94",
   "metadata": {},
   "outputs": [],
   "source": [
    "import csv \n",
    "import os\n",
    "\n",
    "files = {\"Sales_data\":r\"./Data files/sales.csv\",\n",
    "        \"Products_data\":r\"./Data files/Product.csv\",\n",
    "        \"Customers_data\":r\"./Data files/Customer.csv\",\n",
    "        \"Employees_data\":r\"./Data files/employee.csv\"}\n",
    "\n",
    "    \n",
    "def read_csv(file_path):\n",
    "    try:\n",
    "        if not os.path.exists(file_path):\n",
    "            raise FileNotFoundError(f\"The file {file_path} is not present.\")\n",
    "    \n",
    "        with open(file_path, \"r\") as file:\n",
    "            csvReader = csv.reader(file)\n",
    "            csv_data = list(csvReader)  \n",
    "        return csv_data\n",
    "\n",
    "    except FileNotFoundError as fnf_error:\n",
    "        print(f\"Error: {fnf_error}\")\n",
    "    except csv.Error as csv_error:\n",
    "        print(f\"Error reading CSV file: {csv_error}\")\n",
    "\n",
    "    \n",
    "def extract_all_data(files): \n",
    "    all_data = {}\n",
    "    for filename,path in files.items():\n",
    "        csvRead = read_csv(path)\n",
    "        if csvRead != None:\n",
    "            colheader = csvRead[0]\n",
    "            data = []\n",
    "        \n",
    "            for i in csvRead[1:]:\n",
    "                record = {}\n",
    "                for j in range(len(colheader)):\n",
    "                    record[colheader[j]] = i[j]\n",
    "                data.append(record)\n",
    "    \n",
    "        all_data[filename] = data\n",
    "    \n",
    "    return all_data\n",
    "\n",
    "all_data = extract_all_data(files)\n",
    "\n",
    "print(all_data)"
   ]
  },
  {
   "cell_type": "markdown",
   "id": "11509717",
   "metadata": {},
   "source": [
    "<h1>Step 2: Data Transformation </h1>"
   ]
  },
  {
   "cell_type": "markdown",
   "id": "86712330",
   "metadata": {},
   "source": [
    "<h3 style = \"color: blue;\">1.Clean the data by correcting data types</h3>"
   ]
  },
  {
   "cell_type": "code",
   "execution_count": null,
   "id": "036df6a8",
   "metadata": {},
   "outputs": [],
   "source": [
    "def correct_data_types(all_data):\n",
    "    for data , content in all_data.items():\n",
    "        for record in content:\n",
    "            for key, value in record.items():    \n",
    "                if value.isdigit():\n",
    "                   record[key] = int(value)\n",
    "                else:\n",
    "                    try:\n",
    "                        record[key] = float(value)\n",
    "                    except ValueError:\n",
    "                        pass\n",
    "\n",
    "    \n",
    "    return all_data\n",
    "\n",
    "corrected_data_type_data = correct_data_types(all_data)\n",
    "\n",
    "print(corrected_data_type_data)"
   ]
  },
  {
   "cell_type": "markdown",
   "id": "dbbf5f6e",
   "metadata": {},
   "source": [
    "<h3 style = \"color: blue;\">2.Clean the data by addressing missing values</h3>"
   ]
  },
  {
   "cell_type": "code",
   "execution_count": null,
   "id": "3480a3c2-a0b3-4d06-8f2e-6d99b4a3b92e",
   "metadata": {},
   "outputs": [],
   "source": [
    "def missing_values(corrected_data_type_data):\n",
    "    for data , content in corrected_data_type_data.items():\n",
    "        for record in content:\n",
    "            for key, value in record.items():\n",
    "                if value is None or value == '':\n",
    "                    if key == 'quantity' or key == 'sale_id':\n",
    "                        record[key] = 0\n",
    "                    elif key == 'price' or key == 'cost_price' or key == 'salary':\n",
    "                        record[key] = 0.0\n",
    "                    else:\n",
    "                        record[key] = None\n",
    "                        \n",
    "    return corrected_data_type_data\n",
    "\n",
    "corrected_data = missing_values(corrected_data_type_data)\n",
    "\n",
    "print(corrected_data)"
   ]
  },
  {
   "cell_type": "markdown",
   "id": "655751ed",
   "metadata": {},
   "source": [
    "<h3 style = \"color: blue;\">3.Integrate the Sales data with other data</h3>"
   ]
  },
  {
   "cell_type": "code",
   "execution_count": null,
   "id": "6c6615fa",
   "metadata": {},
   "outputs": [],
   "source": [
    "product_dict = {product['product_id']: product for product in corrected_data['Products_data']}\n",
    "customer_dict = {customer['customer_id']: customer for customer in corrected_data['Customers_data']}\n",
    "\n",
    "integrated_data = []\n",
    "\n",
    "for sale in corrected_data['Sales_data']:\n",
    "    product_id = sale['product_id']\n",
    "    product_info = product_dict.get(product_id, {})\n",
    "    customer_id = sale['customer_id']\n",
    "    customer_info = customer_dict.get(customer_id, {})\n",
    "    \n",
    "    \n",
    "    ###Merge sale data with product info and customer_info\n",
    "    \n",
    "    integrated_record = {**sale, **product_info, **customer_info}\n",
    "    integrated_data.append(integrated_record)\n",
    "    \n",
    "    \n",
    "###Print the merged data\n",
    "\n",
    "for record in integrated_data:\n",
    "    print(record)\n"
   ]
  },
  {
   "cell_type": "markdown",
   "id": "c94921c2",
   "metadata": {},
   "source": [
    "<h3 style = \"color: blue;\">4.Adding additional date dimensions in the Integrated data</h3>"
   ]
  },
  {
   "cell_type": "code",
   "execution_count": null,
   "id": "28b3f281",
   "metadata": {},
   "outputs": [],
   "source": [
    "import math\n",
    "\n",
    "for data in integrated_data:\n",
    "    ###convert the date column into month, day and year\n",
    "    \n",
    "    month, day, year = list(map(int, data['date'].split('/')))\n",
    "    \n",
    "    data['month'] = month\n",
    "    data['day'] = day\n",
    "    data['year'] = year\n",
    "    data['quarter'] = math.ceil(month/3)"
   ]
  },
  {
   "cell_type": "markdown",
   "id": "e8dc53dd",
   "metadata": {},
   "source": [
    "<h1>Step 3.1: Data Analysis</h1>"
   ]
  },
  {
   "cell_type": "markdown",
   "id": "047004cc",
   "metadata": {},
   "source": [
    "<h3 style = \"color: blue;\">1.Calculate total sales and profit by product category: </h3>"
   ]
  },
  {
   "cell_type": "code",
   "execution_count": null,
   "id": "d4c1bb40",
   "metadata": {},
   "outputs": [],
   "source": [
    "category_sales = {}\n",
    "\n",
    "for data in integrated_data:\n",
    "    if data['category'] not in category_sales.keys():\n",
    "        category_sales[data['category']] = {'sales': int(data['quantity'])*float(data['price']),\n",
    "                                            'total_cost_price': int(data['quantity'])*float(data['cost_price'])}\n",
    "    else:\n",
    "        category_sales[data['category']]['sales'] += int(data['quantity'])*float(data['price'])\n",
    "        category_sales[data['category']]['total_cost_price'] += int(data['quantity'])*float(data['cost_price'])\n",
    "        \n",
    "for key, value in category_sales.items():\n",
    "    print(f\"Total sales in {key} category = {value['sales']:.2f} and profit percentage = {((value['sales']-value['total_cost_price'])/value['total_cost_price'])*100:.2f}\")"
   ]
  },
  {
   "cell_type": "markdown",
   "id": "5b91209c",
   "metadata": {},
   "source": [
    "<h3 style = \"color: blue;\">2.Identify Product wise Sales</h3>"
   ]
  },
  {
   "cell_type": "code",
   "execution_count": null,
   "id": "2b3137f4",
   "metadata": {},
   "outputs": [],
   "source": [
    "prd_sales = {}\n",
    "\n",
    "for data in integrated_data:\n",
    "    if data['product_id'] not in prd_sales.keys():\n",
    "        prd_sales[data['product_id']] = {'sales': data['quantity']*data['price'],\n",
    "                                         'product_name': data['product_name']}\n",
    "    else:\n",
    "        prd_sales[data['product_id']]['sales'] += data['quantity']*data['price']\n",
    "\n",
    "for key,value in prd_sales.items():\n",
    "    print(f\"The product {value['product_name']} has sales of {value['sales']}\")  "
   ]
  },
  {
   "cell_type": "markdown",
   "id": "e4cc2f97",
   "metadata": {},
   "source": [
    "<h3 style = \"color: blue;\">3.Top selling and lowest selling product based on sales</h3>"
   ]
  },
  {
   "cell_type": "code",
   "execution_count": null,
   "id": "2f46c14b",
   "metadata": {},
   "outputs": [],
   "source": [
    "prd_sales_sorted = dict(sorted(prd_sales.items(),key= lambda x: x[1]['sales'], reverse = True))\n",
    "\n",
    "print(f\"The top selling product is: {prd_sales_sorted[list(prd_sales_sorted.keys())[0]]['product_name']} and lowest selling product is: {prd_sales_sorted[list(prd_sales_sorted.keys())[-1]]['product_name']}\")"
   ]
  },
  {
   "cell_type": "markdown",
   "id": "93ba4e2e",
   "metadata": {},
   "source": [
    "<h3 style = \"color: blue;\">4.Identify Customer wise Sales</h3>"
   ]
  },
  {
   "cell_type": "code",
   "execution_count": null,
   "id": "dbdbaa12",
   "metadata": {},
   "outputs": [],
   "source": [
    "customer_sales = {}\n",
    "\n",
    "for data in integrated_data:\n",
    "    if data['customer_id'] not in customer_sales.keys():\n",
    "        customer_sales[data['customer_id']] = {'sales': data['quantity']*data['price'],\n",
    "                                         'customer_name': data['name']}\n",
    "    else:\n",
    "        customer_sales[data['customer_id']]['sales'] += data['quantity']*data['price']\n",
    "\n",
    "for key,value in customer_sales.items():\n",
    "    print(f\"The Customer {value['customer_name']} has sales of {value['sales']}\")  "
   ]
  },
  {
   "cell_type": "markdown",
   "id": "3c0e17ad",
   "metadata": {},
   "source": [
    "<h3 style = \"color: blue;\">5.Top buying and lowest buying customer based on sales</h3>"
   ]
  },
  {
   "cell_type": "code",
   "execution_count": null,
   "id": "f7f7f5d3",
   "metadata": {},
   "outputs": [],
   "source": [
    "customer_sales_sorted = dict(sorted(customer_sales.items(),key= lambda x: x[1]['sales'], reverse = True))\n",
    "\n",
    "print(f\"The most important customer is: {customer_sales_sorted[list(customer_sales_sorted.keys())[0]]['customer_name']} and the least important customer is: {customer_sales_sorted[list(customer_sales_sorted.keys())[-1]]['customer_name']}\")"
   ]
  },
  {
   "cell_type": "markdown",
   "id": "5237e27c",
   "metadata": {},
   "source": [
    "<h3 style=\"color: blue;\">6.Daily sales analysis</h3>"
   ]
  },
  {
   "cell_type": "code",
   "execution_count": null,
   "id": "78a098ab",
   "metadata": {},
   "outputs": [],
   "source": [
    "date_wise_sales = {}\n",
    "\n",
    "for data in integrated_data:\n",
    "    if data['date'] not in date_wise_sales.keys():\n",
    "        date_wise_sales[data['date']] = data['quantity']*data['price']                                 \n",
    "    else:\n",
    "        date_wise_sales[data['date']] += data['quantity']*data['price']\n",
    "\n",
    "for key,value in date_wise_sales.items():\n",
    "    print(f\"{value:.2f} amount of sales happened on {key}\")"
   ]
  },
  {
   "cell_type": "markdown",
   "id": "049f316d",
   "metadata": {},
   "source": [
    "<h3 style=\"color: blue;\">7.Top selling and lowest selling dates based on sales</h3>"
   ]
  },
  {
   "cell_type": "code",
   "execution_count": null,
   "id": "4a7df780",
   "metadata": {},
   "outputs": [],
   "source": [
    "date_wise_sales_sorted = dict(sorted(date_wise_sales.items(),key= lambda x: x[1], reverse = True))\n",
    "\n",
    "###top selling dates\n",
    "highest_sales_date_wise = date_wise_sales_sorted[list(date_wise_sales_sorted.keys())[0]]\n",
    "print(f'The dates having highest sales of amount {highest_sales_date_wise} are -')\n",
    "for date, sales in date_wise_sales_sorted.items():\n",
    "    if sales == highest_sales_date_wise:\n",
    "        print(date)\n",
    "        \n",
    "###lowest selling dates\n",
    "lowest_sales_date_wise = date_wise_sales_sorted[list(date_wise_sales_sorted.keys())[-1]]\n",
    "print(f'The dates having lowest sales of amount {lowest_sales_date_wise} are -')\n",
    "for date, sales in date_wise_sales_sorted.items():\n",
    "    if sales == lowest_sales_date_wise:\n",
    "        print(date)"
   ]
  },
  {
   "cell_type": "markdown",
   "id": "6857c8af",
   "metadata": {},
   "source": [
    "<h3 style=\"color:blue;\">8.Monthly sales analysis</h3>"
   ]
  },
  {
   "cell_type": "code",
   "execution_count": null,
   "id": "3c608ad4",
   "metadata": {},
   "outputs": [],
   "source": [
    "month_wise_sales = {}\n",
    "\n",
    "for data in integrated_data:\n",
    "    if data['month'] not in month_wise_sales.keys():\n",
    "        month_wise_sales[data['month']] = data['quantity']*data['price']                                 \n",
    "    else:\n",
    "        month_wise_sales[data['month']] += data['quantity']*data['price']\n",
    "        \n",
    "for key,value in month_wise_sales.items():\n",
    "    print(f\"{value:.2f} amount of sales happened on month {key}\")"
   ]
  },
  {
   "cell_type": "markdown",
   "id": "be2b6c88",
   "metadata": {},
   "source": [
    "<h3 style=\"color:blue;\">9.Top selling and lowest selling months based on sales</h3>"
   ]
  },
  {
   "cell_type": "code",
   "execution_count": 102,
   "id": "2f170185",
   "metadata": {},
   "outputs": [
    {
     "name": "stdout",
     "output_type": "stream",
     "text": [
      "Highest selling month - 10 with amount = 4677.059999999999\n",
      "Lowest selling month - 1 with amount = 589.92\n"
     ]
    }
   ],
   "source": [
    "month_wise_sales_sorted = dict(sorted(month_wise_sales.items(),key= lambda x: x[1], reverse = True))\n",
    "\n",
    "###Highest selling month\n",
    "highest_sales_month_wise = list(month_wise_sales_sorted.keys())[0]\n",
    "print(f'Highest selling month - {highest_sales_month_wise} with amount = {month_wise_sales_sorted[highest_sales_month_wise]}')\n",
    "\n",
    "###Lowest selling month\n",
    "lowest_sales_month_wise = list(month_wise_sales_sorted.keys())[-1]\n",
    "print(f'Lowest selling month - {lowest_sales_month_wise} with amount = {month_wise_sales_sorted[lowest_sales_month_wise]}')"
   ]
  },
  {
   "cell_type": "markdown",
   "id": "c86cc9a9",
   "metadata": {},
   "source": [
    "<h3 style=\"color:blue;\">10.Quarterly sales analysis</h3>"
   ]
  },
  {
   "cell_type": "code",
   "execution_count": null,
   "id": "49ab1cd7",
   "metadata": {},
   "outputs": [],
   "source": [
    "quarter_wise_sales = {}\n",
    "\n",
    "for data in integrated_data:\n",
    "    if data['quarter'] not in quarter_wise_sales.keys():\n",
    "        quarter_wise_sales[data['quarter']] = data['quantity']*data['price']                                 \n",
    "    else:\n",
    "        quarter_wise_sales[data['quarter']] += data['quantity']*data['price']\n",
    "        \n",
    "for key,value in quarter_wise_sales.items():\n",
    "    print(f\"{value:.2f} amount of sales happened in Quarter {key}\")"
   ]
  },
  {
   "cell_type": "markdown",
   "id": "e0b668fa",
   "metadata": {},
   "source": [
    "<h3 style=\"color:blue;\">11.Top selling and lowest selling quarter based on sales</h3>"
   ]
  },
  {
   "cell_type": "code",
   "execution_count": 110,
   "id": "6766b1ea",
   "metadata": {},
   "outputs": [
    {
     "name": "stdout",
     "output_type": "stream",
     "text": [
      "Highest selling quarter - 4 with amount = 13511.25\n",
      "Lowest selling quarter - 1 with amount = 589.92\n"
     ]
    }
   ],
   "source": [
    "quarter_wise_sales_sorted = dict(sorted(quarter_wise_sales.items(),key= lambda x: x[1], reverse = True))\n",
    "\n",
    "###Highest selling quarter\n",
    "highest_sales_quarter_wise = list(quarter_wise_sales_sorted.keys())[0]\n",
    "print(f'Highest selling quarter - {highest_sales_quarter_wise} with amount = {quarter_wise_sales_sorted[highest_sales_quarter_wise]:.2f}')\n",
    "\n",
    "###Lowest selling quarter\n",
    "lowest_sales_quarter_wise = list(quarter_wise_sales_sorted.keys())[-1]\n",
    "print(f'Lowest selling quarter - {lowest_sales_quarter_wise} with amount = {quarter_wise_sales_sorted[lowest_sales_quarter_wise]:.2f}')"
   ]
  },
  {
   "cell_type": "markdown",
   "id": "c8df3c45",
   "metadata": {},
   "source": [
    "<h3 style=\"color:blue;\">12.Total sales amount</h3>"
   ]
  },
  {
   "cell_type": "code",
   "execution_count": null,
   "id": "3aeb9ba5",
   "metadata": {},
   "outputs": [],
   "source": [
    "total_amt = 0\n",
    "\n",
    "for data in integrated_data:\n",
    "    total_amt += data['quantity']*data['price']\n",
    "\n",
    "print(f\"The total sales amount is: {total_amt}\")"
   ]
  },
  {
   "cell_type": "markdown",
   "id": "bfe9ea4d",
   "metadata": {},
   "source": [
    "<h3 style=\"color:blue;\">13.Total quantity sold</h3>"
   ]
  },
  {
   "cell_type": "code",
   "execution_count": null,
   "id": "ba820456",
   "metadata": {},
   "outputs": [],
   "source": [
    "total_qty = 0\n",
    "\n",
    "for data in integrated_data:\n",
    "    total_qty += data['quantity']\n",
    "\n",
    "print(f\"Total quantity sold: {total_qty}\")"
   ]
  },
  {
   "cell_type": "markdown",
   "id": "05ae91f7",
   "metadata": {},
   "source": [
    "<h3 style=\"color:blue;\">14.Product wise quantity</h3>"
   ]
  },
  {
   "cell_type": "code",
   "execution_count": null,
   "id": "c5247234",
   "metadata": {},
   "outputs": [],
   "source": [
    "prd_qty = {}\n",
    "\n",
    "for data in integrated_data:\n",
    "    if data['product_id'] not in prd_qty.keys():\n",
    "        prd_qty[data['product_id']] = data['quantity']\n",
    "    else:\n",
    "        prd_qty[data['product_id']] += data['quantity']\n",
    "\n",
    "for key,value in prd_qty.items():\n",
    "    print(f\"The product {key} has quantity of {value}\") "
   ]
  },
  {
   "cell_type": "markdown",
   "id": "36c7f162",
   "metadata": {},
   "source": [
    "<h3 style=\"color:blue;\">15.Product wise quantity</h3>"
   ]
  },
  {
   "cell_type": "code",
   "execution_count": null,
   "id": "72735e13",
   "metadata": {},
   "outputs": [],
   "source": [
    "cust_qty = {}\n",
    "\n",
    "for data in integrated_data:\n",
    "    if data['customer_id'] not in cust_qty.keys():\n",
    "        cust_qty[data['customer_id']] = int(data['quantity'])\n",
    "    else:\n",
    "        cust_qty[data['customer_id']] += int(data['quantity'])\n",
    "\n",
    "for key,value in cust_qty.items():\n",
    "    print(f\"The quantity purchased by customer {key} is {value}\")   "
   ]
  },
  {
   "cell_type": "markdown",
   "id": "f838a7a2",
   "metadata": {},
   "source": [
    "<h3 style=\"color:blue;\">16.Product wise Cost of Good Sold(COGS)</h3>"
   ]
  },
  {
   "cell_type": "code",
   "execution_count": null,
   "id": "21512bf0",
   "metadata": {},
   "outputs": [],
   "source": [
    "prd_cogs_sales = {}\n",
    "\n",
    "for data in integrated_data:\n",
    "    if data['product_id'] not in prd_cogs_sales.keys():\n",
    "        prd_cogs_sales[data['product_id']] = {'sales': data['quantity']*data['cost_price'],\n",
    "                                         'product_name': data['product_name']}\n",
    "    else:\n",
    "        prd_cogs_sales[data['product_id']]['sales'] += data['quantity']*data['cost_price']\n",
    "\n",
    "for key,value in prd_cogs_sales.items():\n",
    "    print(f\"The product {value['product_name']} has COGS of {value['sales']}\")  \n",
    "    "
   ]
  },
  {
   "cell_type": "markdown",
   "id": "861ac42f",
   "metadata": {},
   "source": [
    "<h3 style=\"color:blue;\">17.Product wise Gross-Profit</h3>"
   ]
  },
  {
   "cell_type": "code",
   "execution_count": null,
   "id": "5a87d4a3",
   "metadata": {},
   "outputs": [],
   "source": [
    "#Formula: (Sales of a product - COGS of a product)\n",
    "\n",
    "for key in prd_sales.keys():\n",
    "    product_name = prd_sales[key]['product_name']\n",
    "    gross_profit = prd_sales[key]['sales'] - prd_cogs_sales[key]['sales']\n",
    "    print(f'{product_name} has Gross profit amount = {gross_profit}')"
   ]
  },
  {
   "cell_type": "markdown",
   "id": "f9f4a02e",
   "metadata": {},
   "source": [
    "<h3 style=\"color:blue;\">18.Product wise cost price</h3>"
   ]
  },
  {
   "cell_type": "code",
   "execution_count": null,
   "id": "353a7597",
   "metadata": {},
   "outputs": [],
   "source": [
    "prd_costs = {}\n",
    "\n",
    "for data in integrated_data:\n",
    "    if data['product_id'] not in prd_costs.keys():\n",
    "        prd_costs[data['product_id']] = {'cost_price': data['quantity']*data['cost_price'],\n",
    "                                         'product_name': data['product_name']}\n",
    "    else:\n",
    "        prd_costs[data['product_id']]['cost_price'] += data['quantity']*data['cost_price']\n",
    "\n",
    "for key,value in prd_costs.items():\n",
    "    print(f\"The product {value['product_name']} has cost of {value['cost_price']}\")  "
   ]
  },
  {
   "cell_type": "markdown",
   "id": "f3408668",
   "metadata": {},
   "source": [
    "<h3 style=\"color:blue;\">19.Most and least costliest product based on cost price</h3>"
   ]
  },
  {
   "cell_type": "code",
   "execution_count": null,
   "id": "be957049",
   "metadata": {},
   "outputs": [],
   "source": [
    "prd_costs_sorted = dict(sorted(prd_costs.items(),key= lambda x: x[1]['cost_price'], reverse = True))\n",
    "\n",
    "\n",
    "print(f\"The costly product is: {prd_costs_sorted[list(prd_costs_sorted.keys())[0]]['product_name']} and least costly product is: {prd_costs_sorted[list(prd_costs_sorted.keys())[-1]]['product_name']}\")"
   ]
  },
  {
   "cell_type": "markdown",
   "id": "a8892452",
   "metadata": {},
   "source": [
    "<h1>Step 3.2: Data analysis on Employee data(As employee data is not able to be integrated)</h1>"
   ]
  },
  {
   "cell_type": "markdown",
   "id": "899e364c",
   "metadata": {},
   "source": [
    "<h3 style=\"color:blue;\">1.Total number of employees</h3>"
   ]
  },
  {
   "cell_type": "code",
   "execution_count": null,
   "id": "a6e31982",
   "metadata": {},
   "outputs": [],
   "source": [
    "print(f\"Total number of employees: {len(corrected_data['Employees_data'])}\")"
   ]
  },
  {
   "cell_type": "markdown",
   "id": "727d72f0",
   "metadata": {},
   "source": [
    "<h3 style=\"color:blue;\">2.Number of employees per department</h3>"
   ]
  },
  {
   "cell_type": "code",
   "execution_count": null,
   "id": "805d225b",
   "metadata": {},
   "outputs": [],
   "source": [
    "emp_per_dept = {}\n",
    "\n",
    "for data in corrected_data['Employees_data']:\n",
    "    if data['department'] not in emp_per_dept.keys():\n",
    "        emp_per_dept[data['department']] = 1\n",
    "    else:\n",
    "        emp_per_dept[data['department']] += 1\n",
    "        \n",
    "for key, value in emp_per_dept.items():\n",
    "    print(f\"{value} employees work under {key} department.\")"
   ]
  },
  {
   "cell_type": "markdown",
   "id": "33f9d421",
   "metadata": {},
   "source": [
    "<h3 style=\"color:blue;\">3.Total salary per department</h3>"
   ]
  },
  {
   "cell_type": "code",
   "execution_count": null,
   "id": "d8a8f1e5",
   "metadata": {},
   "outputs": [],
   "source": [
    "sal_per_dept = {}\n",
    "\n",
    "for data in corrected_data['Employees_data']:\n",
    "    if data['department'] not in sal_per_dept.keys():\n",
    "        sal_per_dept[data['department']] = data['salary']\n",
    "    else:\n",
    "        sal_per_dept[data['department']] += data['salary']\n",
    "        \n",
    "for key, value in sal_per_dept.items():\n",
    "    print(f\"Total salary {value} spends for {key} department.\")"
   ]
  },
  {
   "cell_type": "markdown",
   "id": "6a35dc8b",
   "metadata": {},
   "source": [
    "<h3 style=\"color:blue;\">4.Average salary per department</h3>"
   ]
  },
  {
   "cell_type": "code",
   "execution_count": null,
   "id": "9d53c4d9",
   "metadata": {},
   "outputs": [],
   "source": [
    "avg_sal_per_dept = {}\n",
    "\n",
    "for data in corrected_data['Employees_data']:\n",
    "    if data['department'] not in avg_sal_per_dept.keys():\n",
    "        avg_sal_per_dept[data['department']] = {'salary': data['salary'], 'employees_count': 1}\n",
    "    else:\n",
    "        avg_sal_per_dept[data['department']]['salary'] += data['salary']\n",
    "        avg_sal_per_dept[data['department']]['employees_count'] += 1\n",
    "\n",
    "for key,value in avg_sal_per_dept.items():\n",
    "    print(f\"{key} department give average salary of {value['salary']/value['employees_count']:.2f}\")"
   ]
  },
  {
   "cell_type": "markdown",
   "id": "7b89818f",
   "metadata": {},
   "source": [
    "<h3 style=\"color:blue;\">5.Departments paying highest and lowest average salary</h3>"
   ]
  },
  {
   "cell_type": "code",
   "execution_count": null,
   "id": "29c0f829",
   "metadata": {},
   "outputs": [],
   "source": [
    "avg_sal_per_dept_sorted = dict(sorted(avg_sal_per_dept.items(), key = lambda x: x[1]['salary']/x[1]['employees_count'], reverse= True))\n",
    "\n",
    "print(f\"{list(avg_sal_per_dept_sorted.keys())[0]} department paying highest average salary and {list(avg_sal_per_dept_sorted.keys())[-1]} department paying lowest average salary\")"
   ]
  },
  {
   "cell_type": "markdown",
   "id": "c15560e8",
   "metadata": {},
   "source": [
    "<h1> Step 4: Data Loading</h1>"
   ]
  },
  {
   "cell_type": "markdown",
   "id": "afe920b5-c187-452f-999e-26a170d48276",
   "metadata": {},
   "source": [
    "<h3 style= \"color: blue;\">1.A comprehensive sales report combining information from all sources</h3>"
   ]
  },
  {
   "cell_type": "code",
   "execution_count": null,
   "id": "02583781",
   "metadata": {},
   "outputs": [],
   "source": [
    "output_file_path = \"comprehensive_report_file.csv\"\n",
    "\n",
    "fieldnames = list(integrated_data[0].keys())\n",
    "\n",
    "with open(output_file_path, mode='w',newline='') as file:\n",
    "    cvsWriter = csv.writer(file)\n",
    "    cvsWriter.writerow(fieldnames)\n",
    "\n",
    "for data in integrated_data:\n",
    "    values= [value for key,value in data.items()]\n",
    "    with open(output_file_path, mode='a',newline='') as file:\n",
    "        cvsWriter = csv.writer(file)\n",
    "        cvsWriter.writerow(values)\n",
    "\n",
    "print(f'Comprehensive sales report generated: {output_file_path}')"
   ]
  },
  {
   "cell_type": "markdown",
   "id": "64162994-7383-4d3e-afeb-7fa7c9367b73",
   "metadata": {},
   "source": [
    "<h3 style= \"color: blue;\">2.A summary report with aggregated sales data</h3>"
   ]
  },
  {
   "cell_type": "code",
   "execution_count": 108,
   "id": "1b5a8ee8",
   "metadata": {},
   "outputs": [],
   "source": [
    "summary_output_file_path = \"summary_sales_report.csv\"\n",
    "\n",
    "with open(summary_output_file_path,mode='w',newline = '') as file:\n",
    "    csvWriter = csv.writer(file)\n",
    "    csvWriter.writerow([\"Total Sales Amount is:\",total_amt])\n",
    "    csvWriter.writerow([\"Total Quantity Sold is:\",total_qty])\n",
    "    csvWriter.writerow([\"Top selling product is:\",prd_sales_sorted[list(prd_sales_sorted.keys())[0]]['product_name']])\n",
    "    csvWriter.writerow([\"Least selling product is:\",prd_sales_sorted[list(prd_sales_sorted.keys())[-1]]['product_name']])\n",
    "    csvWriter.writerow([\"The most important customer is:\",customer_sales_sorted[list(customer_sales_sorted.keys())[0]]['customer_name']])\n",
    "    csvWriter.writerow([\"The least important customer is:\",customer_sales_sorted[list(customer_sales_sorted.keys())[-1]]['customer_name']])\n",
    "    csvWriter.writerow([\"Highest amount of sales on a single day as of now is:\",highest_sales_date_wise])\n",
    "    csvWriter.writerow([\"Lowest amount of sales on a single day as of now is:\",lowest_sales_date_wise])\n",
    "    csvWriter.writerow([\"Highest amount of sales on a month as of now is:\",month_wise_sales_sorted[highest_sales_month_wise]])\n",
    "    csvWriter.writerow([\"Lowest amount of sales on a month as of now is:\",month_wise_sales_sorted[lowest_sales_month_wise]])\n",
    "    csvWriter.writerow([\"Highest amount of sales on a quarter as of now is:\",quarter_wise_sales_sorted[highest_sales_quarter_wise]])\n",
    "    csvWriter.writerow([\"Lowest amount of sales on a quarter as of now is:\",quarter_wise_sales_sorted[lowest_sales_quarter_wise]])"
   ]
  },
  {
   "cell_type": "code",
   "execution_count": null,
   "id": "7ee1a143",
   "metadata": {},
   "outputs": [],
   "source": []
  }
 ],
 "metadata": {
  "kernelspec": {
   "display_name": "Python 3 (ipykernel)",
   "language": "python",
   "name": "python3"
  },
  "language_info": {
   "codemirror_mode": {
    "name": "ipython",
    "version": 3
   },
   "file_extension": ".py",
   "mimetype": "text/x-python",
   "name": "python",
   "nbconvert_exporter": "python",
   "pygments_lexer": "ipython3",
   "version": "3.12.4"
  }
 },
 "nbformat": 4,
 "nbformat_minor": 5
}
